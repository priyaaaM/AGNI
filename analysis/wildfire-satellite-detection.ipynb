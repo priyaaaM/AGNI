{
 "cells": [
  {
   "cell_type": "code",
   "execution_count": null,
   "id": "f9a4dc5a",
   "metadata": {
    "execution": {
     "iopub.execute_input": "2024-05-30T07:09:04.722248Z",
     "iopub.status.busy": "2024-05-30T07:09:04.721470Z",
     "iopub.status.idle": "2024-05-30T07:09:04.733785Z",
     "shell.execute_reply": "2024-05-30T07:09:04.733035Z"
    },
    "papermill": {
     "duration": 0.022812,
     "end_time": "2024-05-30T07:09:04.735843",
     "exception": false,
     "start_time": "2024-05-30T07:09:04.713031",
     "status": "completed"
    },
    "tags": []
   },
   "outputs": [],
   "source": [
    "import warnings\n",
    "warnings.filterwarnings('ignore')\n",
    "\n",
    "from PIL import ImageFile\n",
    "ImageFile.LOAD_TRUNCATED_IMAGES = True"
   ]
  },
  {
   "cell_type": "markdown",
   "id": "c9fb4f5c",
   "metadata": {
    "papermill": {
     "duration": 0.005912,
     "end_time": "2024-05-30T07:09:04.747841",
     "exception": false,
     "start_time": "2024-05-30T07:09:04.741929",
     "status": "completed"
    },
    "tags": []
   },
   "source": [
    "# Wildfire Satellite Detection"
   ]
  },
  {
   "cell_type": "markdown",
   "id": "2a7ffbe7",
   "metadata": {
    "papermill": {
     "duration": 0.00602,
     "end_time": "2024-05-30T07:09:04.759808",
     "exception": false,
     "start_time": "2024-05-30T07:09:04.753788",
     "status": "completed"
    },
    "tags": []
   },
   "source": [
    "## Importing Libraries"
   ]
  },
  {
   "cell_type": "code",
   "execution_count": null,
   "id": "2a68a4d5",
   "metadata": {
    "_cell_guid": "b1076dfc-b9ad-4769-8c92-a6c4dae69d19",
    "_uuid": "8f2839f25d086af736a60e9eeb907d3b93b6e0e5",
    "execution": {
     "iopub.execute_input": "2024-05-30T07:09:04.773507Z",
     "iopub.status.busy": "2024-05-30T07:09:04.772829Z",
     "iopub.status.idle": "2024-05-30T07:09:19.394512Z",
     "shell.execute_reply": "2024-05-30T07:09:19.393171Z"
    },
    "papermill": {
     "duration": 14.631461,
     "end_time": "2024-05-30T07:09:19.397323",
     "exception": false,
     "start_time": "2024-05-30T07:09:04.765862",
     "status": "completed"
    },
    "tags": []
   },
   "outputs": [],
   "source": [
    "import os\n",
    "import matplotlib.pyplot as plt\n",
    "import numpy as np\n",
    "import seaborn as sns\n",
    "from sklearn.metrics import classification_report, confusion_matrix, accuracy_score\n",
    "\n",
    "import tensorflow as tf\n",
    "from tensorflow.keras.preprocessing.image import ImageDataGenerator, load_img, img_to_array\n",
    "from tensorflow.keras.applications import ResNet50V2\n",
    "from tensorflow.keras.layers import Dense, Dropout, BatchNormalization, GlobalAveragePooling2D\n",
    "from tensorflow.keras.models import Model"
   ]
  },
  {
   "cell_type": "markdown",
   "id": "a9f9e2b8",
   "metadata": {
    "papermill": {
     "duration": 0.006867,
     "end_time": "2024-05-30T07:09:19.418319",
     "exception": false,
     "start_time": "2024-05-30T07:09:19.411452",
     "status": "completed"
    },
    "tags": []
   },
   "source": [
    "## Data Preparation"
   ]
  },
  {
   "cell_type": "code",
   "execution_count": null,
   "id": "80d4389d",
   "metadata": {
    "execution": {
     "iopub.execute_input": "2024-05-30T07:09:19.433770Z",
     "iopub.status.busy": "2024-05-30T07:09:19.432705Z",
     "iopub.status.idle": "2024-05-30T07:09:19.438637Z",
     "shell.execute_reply": "2024-05-30T07:09:19.437189Z"
    },
    "papermill": {
     "duration": 0.016114,
     "end_time": "2024-05-30T07:09:19.440969",
     "exception": false,
     "start_time": "2024-05-30T07:09:19.424855",
     "status": "completed"
    },
    "tags": []
   },
   "outputs": [],
   "source": [
    "train_dir = '/kaggle/input/wildfire-prediction-dataset/train'\n",
    "valid_dir = '/kaggle/input/wildfire-prediction-dataset/valid'\n",
    "test_dir = '/kaggle/input/wildfire-prediction-dataset/test'"
   ]
  },
  {
   "cell_type": "code",
   "execution_count": null,
   "id": "8396f9a5",
   "metadata": {
    "execution": {
     "iopub.execute_input": "2024-05-30T07:09:19.455745Z",
     "iopub.status.busy": "2024-05-30T07:09:19.455346Z",
     "iopub.status.idle": "2024-05-30T07:09:37.625277Z",
     "shell.execute_reply": "2024-05-30T07:09:37.624422Z"
    },
    "papermill": {
     "duration": 18.180293,
     "end_time": "2024-05-30T07:09:37.627868",
     "exception": false,
     "start_time": "2024-05-30T07:09:19.447575",
     "status": "completed"
    },
    "tags": []
   },
   "outputs": [],
   "source": [
    "datagen = ImageDataGenerator(rescale=1./255)\n",
    "\n",
    "batch_size = 64\n",
    "img_height, img_width = 224, 224  # ResNet50V2 expects 224x224 images\n",
    "\n",
    "# Training data generator\n",
    "train_generator = datagen.flow_from_directory(\n",
    "    train_dir,\n",
    "    target_size=(img_height, img_width),\n",
    "    batch_size=batch_size,\n",
    "    class_mode='binary',\n",
    "    color_mode='rgb',\n",
    "    shuffle=True\n",
    ")\n",
    "\n",
    "# Validation data generator\n",
    "valid_generator = datagen.flow_from_directory(\n",
    "    valid_dir,\n",
    "    target_size=(img_height, img_width),\n",
    "    batch_size=batch_size,\n",
    "    class_mode='binary',\n",
    "    color_mode='rgb',\n",
    "    shuffle=True\n",
    ")\n",
    "\n",
    "# Testing data generator\n",
    "test_generator = datagen.flow_from_directory(\n",
    "    test_dir,\n",
    "    target_size=(img_height, img_width),\n",
    "    batch_size=batch_size,\n",
    "    class_mode='binary',\n",
    "    color_mode='rgb',\n",
    "    shuffle=False\n",
    ")"
   ]
  },
  {
   "cell_type": "markdown",
   "id": "b95fc48f",
   "metadata": {
    "papermill": {
     "duration": 0.00662,
     "end_time": "2024-05-30T07:09:37.641777",
     "exception": false,
     "start_time": "2024-05-30T07:09:37.635157",
     "status": "completed"
    },
    "tags": []
   },
   "source": [
    "## Data Viz"
   ]
  },
  {
   "cell_type": "code",
   "execution_count": null,
   "id": "abb8e674",
   "metadata": {
    "execution": {
     "iopub.execute_input": "2024-05-30T07:09:37.656909Z",
     "iopub.status.busy": "2024-05-30T07:09:37.656542Z",
     "iopub.status.idle": "2024-05-30T07:09:39.021263Z",
     "shell.execute_reply": "2024-05-30T07:09:39.020214Z"
    },
    "papermill": {
     "duration": 1.380604,
     "end_time": "2024-05-30T07:09:39.029175",
     "exception": false,
     "start_time": "2024-05-30T07:09:37.648571",
     "status": "completed"
    },
    "tags": []
   },
   "outputs": [],
   "source": [
    "def plot_images(directory, category, num_images):\n",
    "    category_dir = os.path.join(directory, category)\n",
    "    images = os.listdir(category_dir)[:num_images]\n",
    "    \n",
    "    plt.figure(figsize=(15, 5))\n",
    "    for i, img_name in enumerate(images):\n",
    "        img_path = os.path.join(category_dir, img_name)\n",
    "        img = load_img(img_path, target_size=(img_height, img_width))\n",
    "        img_array = img_to_array(img) / 255.0\n",
    "        \n",
    "        plt.subplot(1, num_images, i + 1)\n",
    "        plt.imshow(img_array)\n",
    "        plt.title(category)\n",
    "        plt.axis('off')\n",
    "    plt.show()\n",
    "\n",
    "# Plotting 5 fire and 5 nofire images\n",
    "plot_images(train_dir, 'nowildfire', 5)\n",
    "plot_images(train_dir, 'wildfire', 5)"
   ]
  },
  {
   "cell_type": "markdown",
   "id": "fc6dc69d",
   "metadata": {
    "papermill": {
     "duration": 0.021999,
     "end_time": "2024-05-30T07:09:39.073109",
     "exception": false,
     "start_time": "2024-05-30T07:09:39.051110",
     "status": "completed"
    },
    "tags": []
   },
   "source": [
    "## Model Building"
   ]
  },
  {
   "cell_type": "code",
   "execution_count": null,
   "id": "c6013a23",
   "metadata": {
    "execution": {
     "iopub.execute_input": "2024-05-30T07:09:39.118583Z",
     "iopub.status.busy": "2024-05-30T07:09:39.117661Z",
     "iopub.status.idle": "2024-05-30T07:09:42.259895Z",
     "shell.execute_reply": "2024-05-30T07:09:42.258899Z"
    },
    "papermill": {
     "duration": 3.175713,
     "end_time": "2024-05-30T07:09:42.270502",
     "exception": false,
     "start_time": "2024-05-30T07:09:39.094789",
     "status": "completed"
    },
    "tags": []
   },
   "outputs": [],
   "source": [
    "base_model = ResNet50V2(\n",
    "    weights='imagenet', \n",
    "    include_top=False, \n",
    "    input_shape=(img_height, img_width, 3)\n",
    ")\n",
    "\n",
    "base_model.trainable = False\n",
    "\n",
    "# Unfreeze the last few layers of the base model for fine-tuning\n",
    "for layer in base_model.layers[-10:]:\n",
    "    layer.trainable = True\n",
    "\n",
    "# Add custom layers on top of the base model\n",
    "x = base_model.output\n",
    "x = GlobalAveragePooling2D()(x)\n",
    "x = Dense(512, activation='relu')(x)\n",
    "x = BatchNormalization()(x)\n",
    "x = Dropout(0.5)(x)\n",
    "x = Dense(256, activation='relu')(x)\n",
    "x = BatchNormalization()(x)\n",
    "x = Dropout(0.5)(x)\n",
    "x = Dense(128, activation='relu')(x)\n",
    "x = BatchNormalization()(x)\n",
    "x = Dropout(0.5)(x)\n",
    "output = Dense(1, activation='sigmoid')(x)\n",
    "\n",
    "model = Model(inputs=base_model.input, outputs=output)\n",
    "\n",
    "model.compile(\n",
    "    optimizer='adam',\n",
    "    loss='binary_crossentropy',\n",
    "    metrics=['accuracy']\n",
    ")\n",
    "\n",
    "model.summary()"
   ]
  },
  {
   "cell_type": "code",
   "execution_count": null,
   "id": "40794fb3",
   "metadata": {
    "execution": {
     "iopub.execute_input": "2024-05-30T07:09:42.335302Z",
     "iopub.status.busy": "2024-05-30T07:09:42.334865Z",
     "iopub.status.idle": "2024-05-30T07:09:47.013713Z",
     "shell.execute_reply": "2024-05-30T07:09:47.012470Z"
    },
    "papermill": {
     "duration": 4.758268,
     "end_time": "2024-05-30T07:09:47.060720",
     "exception": false,
     "start_time": "2024-05-30T07:09:42.302452",
     "status": "completed"
    },
    "tags": []
   },
   "outputs": [],
   "source": [
    "tf.keras.utils.plot_model(\n",
    "    model,\n",
    "    show_shapes=True,\n",
    "    show_layer_activations=True,\n",
    "    show_trainable=True\n",
    ")"
   ]
  },
  {
   "cell_type": "code",
   "execution_count": null,
   "id": "cd32cd2d",
   "metadata": {
    "execution": {
     "iopub.execute_input": "2024-05-30T07:09:47.211734Z",
     "iopub.status.busy": "2024-05-30T07:09:47.211094Z",
     "iopub.status.idle": "2024-05-30T07:09:47.221819Z",
     "shell.execute_reply": "2024-05-30T07:09:47.220822Z"
    },
    "papermill": {
     "duration": 0.08806,
     "end_time": "2024-05-30T07:09:47.224148",
     "exception": false,
     "start_time": "2024-05-30T07:09:47.136088",
     "status": "completed"
    },
    "tags": []
   },
   "outputs": [],
   "source": [
    "class PlotPredictionsCallback(tf.keras.callbacks.Callback):\n",
    "    def __init__(self, valid_generator):\n",
    "        self.valid_generator = valid_generator\n",
    "\n",
    "    def on_epoch_end(self, epoch, logs=None):\n",
    "        # Select a random image from the validation set\n",
    "        valid_images, valid_labels = next(self.valid_generator)\n",
    "        idx = np.random.randint(valid_images.shape[0])\n",
    "        image = valid_images[idx]\n",
    "        true_label = valid_labels[idx]\n",
    "\n",
    "        # Predict the label\n",
    "        prediction = self.model.predict(np.expand_dims(image, axis=0))[0][0]\n",
    "        predicted_label = 'Fire' if prediction >= 0.5 else 'No Fire'\n",
    "        true_label_text = 'Fire' if true_label == 1 else 'No Fire'\n",
    "\n",
    "        # Plot the image with true and predicted labels\n",
    "        plt.imshow(image)\n",
    "        plt.title(f'True: {true_label_text}, Predicted: {predicted_label}')\n",
    "        plt.axis('off')\n",
    "        plt.show()"
   ]
  },
  {
   "cell_type": "markdown",
   "id": "152b4c41",
   "metadata": {
    "papermill": {
     "duration": 0.069868,
     "end_time": "2024-05-30T07:09:47.362560",
     "exception": false,
     "start_time": "2024-05-30T07:09:47.292692",
     "status": "completed"
    },
    "tags": []
   },
   "source": [
    "## Model Training"
   ]
  },
  {
   "cell_type": "code",
   "execution_count": null,
   "id": "fff9dfa0",
   "metadata": {
    "execution": {
     "iopub.execute_input": "2024-05-30T07:09:47.508464Z",
     "iopub.status.busy": "2024-05-30T07:09:47.507237Z",
     "iopub.status.idle": "2024-05-30T07:38:41.403554Z",
     "shell.execute_reply": "2024-05-30T07:38:41.402374Z"
    },
    "papermill": {
     "duration": 1734.197832,
     "end_time": "2024-05-30T07:38:41.630596",
     "exception": false,
     "start_time": "2024-05-30T07:09:47.432764",
     "status": "completed"
    },
    "tags": []
   },
   "outputs": [],
   "source": [
    "# Reduce learning rate when a metric has stopped improving\n",
    "lr_scheduler = tf.keras.callbacks.ReduceLROnPlateau(\n",
    "    monitor='val_loss',\n",
    "    factor=0.1,\n",
    "    patience=2,\n",
    "    min_lr=1e-6\n",
    ")\n",
    "\n",
    "early_stopping = tf.keras.callbacks.EarlyStopping(monitor='val_loss', patience=5, restore_best_weights=True)\n",
    "\n",
    "plot_predictions = PlotPredictionsCallback(valid_generator)\n",
    "\n",
    "history = model.fit(\n",
    "    train_generator,\n",
    "    epochs=50,\n",
    "    validation_data=valid_generator,\n",
    "    callbacks=[early_stopping, lr_scheduler, plot_predictions]\n",
    ")"
   ]
  },
  {
   "cell_type": "markdown",
   "id": "d9673a62",
   "metadata": {
    "papermill": {
     "duration": 0.591096,
     "end_time": "2024-05-30T07:38:42.825605",
     "exception": false,
     "start_time": "2024-05-30T07:38:42.234509",
     "status": "completed"
    },
    "tags": []
   },
   "source": [
    "## Model Evaluation"
   ]
  },
  {
   "cell_type": "code",
   "execution_count": null,
   "id": "0ff08483",
   "metadata": {
    "execution": {
     "iopub.execute_input": "2024-05-30T07:38:44.043510Z",
     "iopub.status.busy": "2024-05-30T07:38:44.043101Z",
     "iopub.status.idle": "2024-05-30T07:38:44.719318Z",
     "shell.execute_reply": "2024-05-30T07:38:44.718298Z"
    },
    "papermill": {
     "duration": 1.286428,
     "end_time": "2024-05-30T07:38:44.721781",
     "exception": false,
     "start_time": "2024-05-30T07:38:43.435353",
     "status": "completed"
    },
    "tags": []
   },
   "outputs": [],
   "source": [
    "# Function to plot training history and highlight the best epoch\n",
    "def plot_history(history):\n",
    "    acc = history.history['accuracy']\n",
    "    val_acc = history.history['val_accuracy']\n",
    "    loss = history.history['loss']\n",
    "    val_loss = history.history['val_loss']\n",
    "    epochs = range(len(acc))\n",
    "\n",
    "    best_epoch = np.argmin(val_loss) + 1  # Adding 1 to match epoch numbering\n",
    "\n",
    "    plt.figure(figsize=(12, 8))\n",
    "\n",
    "    # Plot accuracy\n",
    "    plt.subplot(2, 1, 1)\n",
    "    plt.plot(epochs, acc, label='Training Accuracy')\n",
    "    plt.plot(epochs, val_acc, label='Validation Accuracy')\n",
    "    plt.axvline(x=best_epoch-1, color='r', linestyle='--', label='Best Epoch')\n",
    "    plt.title('Training and Validation Accuracy')\n",
    "    plt.legend()\n",
    "\n",
    "    # Plot loss\n",
    "    plt.subplot(2, 1, 2)\n",
    "    plt.plot(epochs, loss, label='Training Loss')\n",
    "    plt.plot(epochs, val_loss, label='Validation Loss')\n",
    "    plt.axvline(x=best_epoch-1, color='r', linestyle='--', label='Best Epoch')\n",
    "    plt.title('Training and Validation Loss')\n",
    "    plt.legend()\n",
    "\n",
    "    plt.show()\n",
    "\n",
    "plot_history(history)"
   ]
  },
  {
   "cell_type": "code",
   "execution_count": null,
   "id": "fc046482",
   "metadata": {
    "execution": {
     "iopub.execute_input": "2024-05-30T07:38:46.025044Z",
     "iopub.status.busy": "2024-05-30T07:38:46.024618Z",
     "iopub.status.idle": "2024-05-30T07:39:47.466931Z",
     "shell.execute_reply": "2024-05-30T07:39:47.466047Z"
    },
    "papermill": {
     "duration": 62.135734,
     "end_time": "2024-05-30T07:39:47.469536",
     "exception": false,
     "start_time": "2024-05-30T07:38:45.333802",
     "status": "completed"
    },
    "tags": []
   },
   "outputs": [],
   "source": [
    "all_test_images = []\n",
    "all_test_labels = []\n",
    "\n",
    "# Loop through the test_generator to get all images and labels\n",
    "for images, labels in test_generator:\n",
    "    all_test_images.extend(images)\n",
    "    all_test_labels.extend(labels)\n",
    "    if test_generator.batch_index == 0:  # Generator loops indefinitely, so we need to break\n",
    "        break\n",
    "\n",
    "all_test_images = np.array(all_test_images)\n",
    "all_test_labels = np.array(all_test_labels)"
   ]
  },
  {
   "cell_type": "code",
   "execution_count": null,
   "id": "8f14955b",
   "metadata": {
    "execution": {
     "iopub.execute_input": "2024-05-30T07:39:48.664842Z",
     "iopub.status.busy": "2024-05-30T07:39:48.663556Z",
     "iopub.status.idle": "2024-05-30T07:40:17.510320Z",
     "shell.execute_reply": "2024-05-30T07:40:17.509339Z"
    },
    "papermill": {
     "duration": 29.435301,
     "end_time": "2024-05-30T07:40:17.512970",
     "exception": false,
     "start_time": "2024-05-30T07:39:48.077669",
     "status": "completed"
    },
    "tags": []
   },
   "outputs": [],
   "source": [
    "# Make predictions on the entire test dataset\n",
    "predictions = model.predict(all_test_images)\n",
    "predicted_labels = (predictions >= 0.5).astype(int).flatten()"
   ]
  },
  {
   "cell_type": "code",
   "execution_count": null,
   "id": "9bc16a1a",
   "metadata": {
    "execution": {
     "iopub.execute_input": "2024-05-30T07:40:18.766953Z",
     "iopub.status.busy": "2024-05-30T07:40:18.766194Z",
     "iopub.status.idle": "2024-05-30T07:40:18.774014Z",
     "shell.execute_reply": "2024-05-30T07:40:18.772703Z"
    },
    "papermill": {
     "duration": 0.664511,
     "end_time": "2024-05-30T07:40:18.776950",
     "exception": false,
     "start_time": "2024-05-30T07:40:18.112439",
     "status": "completed"
    },
    "tags": []
   },
   "outputs": [],
   "source": [
    "# Calculate accuracy\n",
    "accuracy = accuracy_score(all_test_labels, predicted_labels)\n",
    "print(f'Accuracy: {accuracy:.4f}')"
   ]
  },
  {
   "cell_type": "code",
   "execution_count": null,
   "id": "e3eb3de2",
   "metadata": {
    "execution": {
     "iopub.execute_input": "2024-05-30T07:40:19.997501Z",
     "iopub.status.busy": "2024-05-30T07:40:19.996491Z",
     "iopub.status.idle": "2024-05-30T07:40:20.014345Z",
     "shell.execute_reply": "2024-05-30T07:40:20.013161Z"
    },
    "papermill": {
     "duration": 0.642235,
     "end_time": "2024-05-30T07:40:20.016490",
     "exception": false,
     "start_time": "2024-05-30T07:40:19.374255",
     "status": "completed"
    },
    "tags": []
   },
   "outputs": [],
   "source": [
    "# Classification report\n",
    "report = classification_report(all_test_labels, predicted_labels, target_names=['No Fire', 'Fire'])\n",
    "print(report)"
   ]
  },
  {
   "cell_type": "code",
   "execution_count": null,
   "id": "cd44f639",
   "metadata": {
    "execution": {
     "iopub.execute_input": "2024-05-30T07:40:21.260997Z",
     "iopub.status.busy": "2024-05-30T07:40:21.260589Z",
     "iopub.status.idle": "2024-05-30T07:40:21.605961Z",
     "shell.execute_reply": "2024-05-30T07:40:21.604966Z"
    },
    "papermill": {
     "duration": 0.94966,
     "end_time": "2024-05-30T07:40:21.608400",
     "exception": false,
     "start_time": "2024-05-30T07:40:20.658740",
     "status": "completed"
    },
    "tags": []
   },
   "outputs": [],
   "source": [
    "# Confusion matrix\n",
    "cm = confusion_matrix(all_test_labels, predicted_labels)\n",
    "plt.figure(figsize=(10, 7))\n",
    "sns.heatmap(cm, annot=True, fmt='d', cmap='Blues', xticklabels=['No Fire', 'Fire'], yticklabels=['No Fire', 'Fire'])\n",
    "plt.xlabel('Predicted')\n",
    "plt.ylabel('True')\n",
    "plt.title('Confusion Matrix')\n",
    "plt.show()"
   ]
  },
  {
   "cell_type": "code",
   "execution_count": null,
   "id": "b4be1aa2",
   "metadata": {
    "execution": {
     "iopub.execute_input": "2024-05-30T07:40:22.849520Z",
     "iopub.status.busy": "2024-05-30T07:40:22.848549Z",
     "iopub.status.idle": "2024-05-30T07:40:24.386122Z",
     "shell.execute_reply": "2024-05-30T07:40:24.385079Z"
    },
    "papermill": {
     "duration": 2.152565,
     "end_time": "2024-05-30T07:40:24.405780",
     "exception": false,
     "start_time": "2024-05-30T07:40:22.253215",
     "status": "completed"
    },
    "tags": []
   },
   "outputs": [],
   "source": [
    "# Plot some test images with predictions\n",
    "random_indices = np.random.choice(all_test_images.shape[0], 10, replace=False)\n",
    "\n",
    "plt.figure(figsize=(20, 10))\n",
    "for i, idx in enumerate(random_indices):\n",
    "    plt.subplot(2, 5, i+1)\n",
    "    plt.imshow(all_test_images[idx])\n",
    "    true_label_text = 'Fire' if all_test_labels[idx] == 1 else 'No Fire'\n",
    "    predicted_label_text = 'Fire' if predicted_labels[idx] == 1 else 'No Fire'\n",
    "    plt.title(f'True: {true_label_text}\\nPredicted: {predicted_label_text}')\n",
    "    plt.axis('off')\n",
    "\n",
    "plt.show()"
   ]
  },
  {
   "cell_type": "code",
   "execution_count": null,
   "id": "d541b05e",
   "metadata": {
    "execution": {
     "iopub.execute_input": "2024-05-30T07:40:25.657776Z",
     "iopub.status.busy": "2024-05-30T07:40:25.657265Z",
     "iopub.status.idle": "2024-05-30T07:40:26.557667Z",
     "shell.execute_reply": "2024-05-30T07:40:26.556704Z"
    },
    "papermill": {
     "duration": 1.533391,
     "end_time": "2024-05-30T07:40:26.560262",
     "exception": false,
     "start_time": "2024-05-30T07:40:25.026871",
     "status": "completed"
    },
    "tags": []
   },
   "outputs": [],
   "source": [
    "# Save the trained model\n",
    "model.save('wildfire_satellite_detection_model.keras')"
   ]
  }
 ],
 "metadata": {
  "kaggle": {
   "accelerator": "gpu",
   "dataSources": [
    {
     "datasetId": 2860500,
     "sourceId": 4932759,
     "sourceType": "datasetVersion"
    }
   ],
   "isGpuEnabled": true,
   "isInternetEnabled": true,
   "language": "python",
   "sourceType": "notebook"
  },
  "kernelspec": {
   "display_name": "Python 3",
   "language": "python",
   "name": "python3"
  },
  "language_info": {
   "codemirror_mode": {
    "name": "ipython",
    "version": 3
   },
   "file_extension": ".py",
   "mimetype": "text/x-python",
   "name": "python",
   "nbconvert_exporter": "python",
   "pygments_lexer": "ipython3",
   "version": "3.11.9"
  },
  "papermill": {
   "default_parameters": {},
   "duration": 1888.557,
   "end_time": "2024-05-30T07:40:30.258186",
   "environment_variables": {},
   "exception": null,
   "input_path": "__notebook__.ipynb",
   "output_path": "__notebook__.ipynb",
   "parameters": {},
   "start_time": "2024-05-30T07:09:01.701186",
   "version": "2.5.0"
  }
 },
 "nbformat": 4,
 "nbformat_minor": 5
}
